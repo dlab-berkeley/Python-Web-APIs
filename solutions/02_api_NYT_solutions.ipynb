{
 "cells": [
  {
   "cell_type": "markdown",
   "id": "6caa532f-d502-4576-9ee6-5ad88ca0c550",
   "metadata": {},
   "source": [
    "# Accessing Data via Web APIs: Solutions"
   ]
  },
  {
   "cell_type": "code",
   "execution_count": 10,
   "id": "b0379359-694d-491c-ba18-fa80ea3c65bc",
   "metadata": {},
   "outputs": [],
   "source": [
    "# Import required libraries\n",
    "import matplotlib.pyplot as plt\n",
    "import numpy as np\n",
    "import pandas as pd\n",
    "from datetime import datetime\n",
    "from pynytimes import NYTAPI"
   ]
  },
  {
   "cell_type": "code",
   "execution_count": 15,
   "id": "5fbdc8b6-a91d-4f07-a98c-2ba3e8b01726",
   "metadata": {},
   "outputs": [
    {
     "name": "stdin",
     "output_type": "stream",
     "text": [
      "An API key for NYT already exists. Do you want to update it? (y/n):  n\n"
     ]
    },
    {
     "name": "stdout",
     "output_type": "stream",
     "text": [
      "NYT API key retrieved successfully.\n"
     ]
    }
   ],
   "source": [
    "import configparser\n",
    "import os\n",
    "from getpass import getpass\n",
    "\n",
    "def get_api_key(api_name):\n",
    "    config_file_path = os.path.expanduser(\"~/.notebook-api-keys\")\n",
    "    config = configparser.ConfigParser(interpolation=None)  # Disable interpolation to avoid issues with special characters\n",
    "    \n",
    "    # Try reading the existing config file\n",
    "    if os.path.exists(config_file_path):\n",
    "        config.read(config_file_path)\n",
    "    \n",
    "    # Check if API key is present\n",
    "    if config.has_option(\"API_KEYS\", api_name):\n",
    "        # Ask if the user wants to update the key\n",
    "        update_key = input(f\"An API key for {api_name} already exists. Do you want to update it? (y/n): \").lower()\n",
    "        if update_key == 'n':\n",
    "            return config.get(\"API_KEYS\", api_name)\n",
    "    \n",
    "    # If no key exists or user opts to update, prompt for the new key\n",
    "    api_key = getpass(f\"Enter your {api_name} API key: \")\n",
    "\n",
    "    # Save the API key in the config file\n",
    "    if not config.has_section(\"API_KEYS\"):\n",
    "        config.add_section(\"API_KEYS\")\n",
    "    config.set(\"API_KEYS\", api_name, api_key)\n",
    "    \n",
    "    with open(config_file_path, \"w\") as f:\n",
    "        config.write(f)\n",
    "    \n",
    "    return api_key\n",
    "\n",
    "# Example usage to retrieve the NYT API key\n",
    "api_key = get_api_key(\"NYT\")\n",
    "\n",
    "print(\"NYT API key retrieved successfully.\")\n"
   ]
  },
  {
   "cell_type": "code",
   "execution_count": 19,
   "id": "5af27a72-5ed3-4d4a-87bb-0253210262aa",
   "metadata": {
    "tags": []
   },
   "outputs": [],
   "source": [
    "# Intialize the NYT API class into an object using your API key\n",
    "nyt = NYTAPI(api_key, parse_dates=True)"
   ]
  },
  {
   "cell_type": "markdown",
   "id": "cc28bc7d-d3dd-48ff-99d8-20b9db7046b0",
   "metadata": {},
   "source": [
    "## 🥊 Challenge: Find the top stories for a section\n",
    "\n",
    "- Choose a section. Grab the top stories and store it in a list.\n",
    "- How many stories are in the section?\n",
    "- What is the title of the first story?"
   ]
  },
  {
   "cell_type": "code",
   "execution_count": 20,
   "id": "12c920bc-bf8c-48a4-a34e-d10e4a23476d",
   "metadata": {},
   "outputs": [
    {
     "name": "stdout",
     "output_type": "stream",
     "text": [
      "There are 9 sports stories.\n"
     ]
    }
   ],
   "source": [
    "# Sports\n",
    "section = \"sports\"\n",
    "top_sports_stories = nyt.top_stories(section=section)\n",
    "print(f\"There are {len(top_sports_stories)} {section} stories.\")"
   ]
  },
  {
   "cell_type": "code",
   "execution_count": 21,
   "id": "69aa8254-618d-41a9-88ee-f3a2fde7ef8e",
   "metadata": {},
   "outputs": [
    {
     "data": {
      "text/plain": [
       "'The N.B.A. Season Begins Tonight. Here Are Some Bold Predictions.'"
      ]
     },
     "execution_count": 21,
     "metadata": {},
     "output_type": "execute_result"
    }
   ],
   "source": [
    "# Grab first story\n",
    "top_sport_story = top_sports_stories[0]\n",
    "top_sport_story_title = top_sport_story[\"title\"]\n",
    "top_sport_story_title"
   ]
  },
  {
   "cell_type": "markdown",
   "id": "224416c5-1397-458a-a3e9-30a5dcc29f94",
   "metadata": {},
   "source": [
    "| Attribute      | Data Type | Definition      |\n",
    "| ----------- | ----------- | ----------- |\n",
    "| url      | string       | Article's URL.       |\n",
    "| adx_keywords   | string        | Semicolon separated list of keywords.        |\n",
    "| subsection   | string        | Article's subsection (e.g. Politics). Can be empty |\n",
    "| column   | string        | Deprecated. Set to null.        |\n",
    "| eta_id   | integer        | Deprecated. Set to 0.|\n",
    "| section   | string        | Article's section (e.g. Sports).        |\n",
    "| id   | integer        | Asset ID number (e.g. 100000007772696).        |\n",
    "| asset_id   | integer        | Asset ID number (e.g. 100000007772696).        |\n",
    "| nytdsection   | string        | Article's section|\n",
    "| byline   | string        | Article's byline (e.g. By Thomas L. Friedman).        |\n",
    "| type   | string        | Asset type (e.g. Article, Interactive, ...).        |\n",
    "| title   | string        | Article's headline (e.g. When the Cellos Play, the Cows Come Home).        |\n",
    "| abstract   | string        | Brief summary of the article.|\n",
    "| published_date   | string        | When the article was published on the web (e.g. 2021-04-19).        |\n",
    "| source   | string        | Publisher (e.g. New York Times).        |\n",
    "| updated   | string        | When the article was last updated (e.g. 2021-05-12 06:32:03).|\n",
    "| des_facet   | array        | Array of description facets (e.g. Quarantine (Life and Culture)).        |\n",
    "| org_facet   | array        | Array of organization facets (e.g. Sullivan Street Bakery).        |\n",
    "| per_facet   | array        | Array of person facets (e.g. Bittman, Mark).        |\n",
    "| geo_facet   | array        | Array of geographic facets (e.g. Canada).        |\n",
    "| media   | array        | Array of images.        |\n",
    "| media.type   | string        | Asset type (e.g. image).        |\n",
    "| media.subtype   | string        | Asset subtype (e.g. photo).        |\n",
    "| media.caption   | string        | Media caption        |\n",
    "| media.copyright   | string        | Media credit        |\n",
    "| media.approved_for_syndication   | boolean        | Whether media is approved for syndication.        |\n",
    "| media.media-metadata   | array        | Media metadata (url, width, height, ...).        |\n",
    "| media.media-metadata.url   | string        | Image's URL.        |\n",
    "| media.media-metadata.format   | string        | Image's crop name     |\n",
    "| media.media-metadata.height   | integer        | Image's height |\n",
    "| media.media-metadata.width   | integer        | Image's width      |\n",
    "| uri   | string        | An article's globally unique identifier.      |"
   ]
  },
  {
   "cell_type": "code",
   "execution_count": null,
   "id": "41af0f16-f672-4fd7-94cb-2664cb59a2dc",
   "metadata": {},
   "outputs": [],
   "source": [
    "# Get most shared stories\n",
    "email = nyt.most_shared(days=30, method = 'email')\n",
    "facebook = nyt.most_shared(days=30, method = 'facebook')"
   ]
  },
  {
   "cell_type": "code",
   "execution_count": null,
   "id": "7627f62a-fc7a-4860-a31f-c057bf856dca",
   "metadata": {},
   "outputs": [],
   "source": [
    "# Get unique identifier for each story\n",
    "email_ids = [story[\"uri\"] for story in email]\n",
    "facebook_ids = [story[\"uri\"] for story in facebook]"
   ]
  },
  {
   "cell_type": "code",
   "execution_count": null,
   "id": "70ab3c75-b281-49a4-88b3-df97d9c10d41",
   "metadata": {},
   "outputs": [],
   "source": [
    "# Calculate the intersection of unique IDs\n",
    "len(set(email_ids).intersection(set(facebook_ids)))"
   ]
  },
  {
   "cell_type": "markdown",
   "id": "c33ad4d2-d283-466b-a395-b56fd9817a3a",
   "metadata": {},
   "source": [
    "## 🥊 Challenge: Article Searching\n",
    "\n",
    "- Retrieve a set of articles for a query of your choice.\n",
    "- Use a relevant time interval in constructing your `dates` dictionary\n",
    "- Use `type_of_material` and `section_name` as keys in your `options` dictionary.\n",
    "    - For `type_of_material` values refer to this [list](https://github.com/michadenheijer/pynytimes/blob/main/VALID_SEARCH_OPTIONS.md#type-of-material-values).\n",
    "    - For `section_name` values refer to this [list](https://github.com/michadenheijer/pynytimes/blob/main/VALID_SEARCH_OPTIONS.md#section-name-values)."
   ]
  },
  {
   "cell_type": "code",
   "execution_count": 22,
   "id": "5dce99e3-4cf1-475e-a7a2-7f545f06d6e3",
   "metadata": {},
   "outputs": [
    {
     "name": "stderr",
     "output_type": "stream",
     "text": [
      "/Users/tomvannuenen/anaconda3/envs/dlab/lib/python3.10/site-packages/pynytimes/helpers/article_search.py:33: UserWarning: Asking for a lot of results, because of rate limits it can take a while.\n",
      "  warnings.warn(\n"
     ]
    }
   ],
   "source": [
    "# Example: query about COVID in the first 6 months of the pandemic\n",
    "query = \"COVID-19\"\n",
    "begin = datetime(2020, 2, 15)\n",
    "end = datetime(2020, 8, 15)\n",
    "date_dict = {\"begin\": begin, \"end\": end}\n",
    "\n",
    "options_dict = {\n",
    "    \"sort\": \"oldest\",\n",
    "    \"sources\": [\"New York Times\", \"AP\"],\n",
    "    \"type_of_material\": [\n",
    "        \"News Analysis\",\n",
    "        \"News\",\n",
    "        \"Article\",\n",
    "        \"Column\",\n",
    "        \"Editorial\",\n",
    "        \"Front Page\"\n",
    "    ]\n",
    "}\n",
    "\n",
    "articles = nyt.article_search(\n",
    "    query=query,\n",
    "    results=100,\n",
    "    dates=date_dict,\n",
    "    options=options_dict)"
   ]
  },
  {
   "cell_type": "code",
   "execution_count": 24,
   "id": "0fad4c2a-2187-43f9-b820-0d3f9356de14",
   "metadata": {},
   "outputs": [
    {
     "name": "stdout",
     "output_type": "stream",
     "text": [
      "100 articles about COVID-19.\n",
      "Couple Tests Positive for Coronavirus After Returning From Vacation in Hawaii\n"
     ]
    }
   ],
   "source": [
    "print(f\"{len(articles)} articles about {query}.\")\n",
    "# Print first article title\n",
    "print(articles[0]['headline']['main'])"
   ]
  },
  {
   "cell_type": "markdown",
   "id": "65a407db-1bbf-4ae4-ad07-7a10bdaf2ae9",
   "metadata": {},
   "source": [
    "## 🥊 Challenge: Most Positive, Most Negative\n",
    "\n",
    "What are the top 3 most positive and negative texts? Tip: try using the `sort_values()` method on the \"sentiment\" column in your df!"
   ]
  },
  {
   "cell_type": "code",
   "execution_count": 4,
   "id": "4a79529a-3211-4dd9-bcd5-60fb76ca1766",
   "metadata": {},
   "outputs": [],
   "source": [
    "import pandas as pd\n",
    "from vaderSentiment.vaderSentiment import SentimentIntensityAnalyzer\n",
    "import numpy as np \n",
    "\n",
    "df = pd.read_csv(\"../data/election2020_articles.csv\")\n",
    "# Initialize analyzer object\n",
    "analyzer = SentimentIntensityAnalyzer()\n",
    "# Calculate the polarity scores of the lead paragraph and save it in df\n",
    "df[\"sentiment\"] = df[\"lead_paragraph\"].apply(lambda x: analyzer.polarity_scores(x) if isinstance(x, str) else np.nan)\n",
    "df[\"sentiment\"] = df[\"sentiment\"].apply(lambda x: x[\"compound\"] if isinstance(x, dict) else np.nan)"
   ]
  },
  {
   "cell_type": "code",
   "execution_count": 5,
   "id": "f667a3f5-64e0-490c-bd0f-ed291f977e12",
   "metadata": {},
   "outputs": [
    {
     "data": {
      "text/plain": [
       "['How the Black Vote Became a Monolith',\n",
       " 'Podcasts to Inform Your Vote',\n",
       " 'Having Made Peace Abroad, Ethiopia’s Leader Goes to War at Home']"
      ]
     },
     "execution_count": 5,
     "metadata": {},
     "output_type": "execute_result"
    }
   ],
   "source": [
    "# Most positive texts\n",
    "df.sort_values(\"sentiment\", ascending = False)[\"headline.main\"].iloc[:3].tolist()"
   ]
  },
  {
   "cell_type": "code",
   "execution_count": 6,
   "id": "9a90a0d3-e481-44b3-ac08-cf5af46db142",
   "metadata": {},
   "outputs": [
    {
     "data": {
      "text/plain": [
       "['How Trump’s ‘Voter Fraud’ Lie Is Disenfranchising Americans',\n",
       " 'At the End of a Chaotic Campaign, an Election Day That Defied the Worst Fears',\n",
       " 'Days From Election, Police Killing of Black Man Roils Philadelphia']"
      ]
     },
     "execution_count": 6,
     "metadata": {},
     "output_type": "execute_result"
    }
   ],
   "source": [
    "# Most negative texts\n",
    "df.sort_values(\"sentiment\", ascending = True)[\"headline.main\"].iloc[:3].tolist()"
   ]
  }
 ],
 "metadata": {
  "kernelspec": {
   "display_name": "dlab",
   "language": "python",
   "name": "dlab"
  },
  "language_info": {
   "codemirror_mode": {
    "name": "ipython",
    "version": 3
   },
   "file_extension": ".py",
   "mimetype": "text/x-python",
   "name": "python",
   "nbconvert_exporter": "python",
   "pygments_lexer": "ipython3",
   "version": "3.10.12"
  }
 },
 "nbformat": 4,
 "nbformat_minor": 5
}
